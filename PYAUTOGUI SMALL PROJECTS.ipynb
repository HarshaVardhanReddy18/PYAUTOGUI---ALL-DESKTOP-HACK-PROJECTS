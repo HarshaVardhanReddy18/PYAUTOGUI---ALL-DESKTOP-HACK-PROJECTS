{
 "cells": [
  {
   "cell_type": "code",
   "execution_count": 23,
   "metadata": {},
   "outputs": [],
   "source": [
    "pip install pyautogui\n",
    "import pyautogui as py\n",
    "import time\n",
    "\n",
    "time.sleep(5)\n",
    "\n",
    "py.click()\n",
    "\n",
    "distance = 400\n",
    "\n",
    "while distance > 0:\n",
    "    py.dragRel(distance,0,duration = .2)\n",
    "    distance = distance - 50\n",
    "    \n",
    "    py.dragRel( 0, distance ,duration = .2)\n",
    "    \n",
    "    py.dragRel(-distance, 0 ,duration = .2)\n",
    "    distance = distance - 50\n",
    "    \n",
    "    py.dragRel( 0, -distance,duration = .2)"
   ]
  },
  {
   "cell_type": "code",
   "execution_count": 5,
   "metadata": {},
   "outputs": [
    {
     "name": "stdout",
     "output_type": "stream",
     "text": [
      "Requirement already satisfied: pillow in c:\\users\\h\\anaconda3\\lib\\site-packages (7.0.0)\n",
      "Note: you may need to restart the kernel to use updated packages.\n"
     ]
    }
   ],
   "source": [
    "pip install pillow"
   ]
  },
  {
   "cell_type": "code",
   "execution_count": 20,
   "metadata": {},
   "outputs": [],
   "source": [
    "import selenium"
   ]
  },
  {
   "cell_type": "code",
   "execution_count": 21,
   "metadata": {},
   "outputs": [],
   "source": [
    "from selenium import webdriver"
   ]
  },
  {
   "cell_type": "code",
   "execution_count": 1,
   "metadata": {},
   "outputs": [],
   "source": [
    "import pyautogui as py\n",
    "\n",
    "def openwifi():\n",
    "    py.moveTo(1760,1080)\n",
    "    py.click()\n",
    "    py.moveTo(1800,900)\n",
    "    py.click()\n",
    "    py.moveTo(1800,350)\n",
    "    py.click()\n",
    "    py.click()\n",
    "    py.moveTo(1800,450)"
   ]
  },
  {
   "cell_type": "code",
   "execution_count": 2,
   "metadata": {},
   "outputs": [],
   "source": [
    "openwifi()"
   ]
  },
  {
   "cell_type": "code",
   "execution_count": 62,
   "metadata": {},
   "outputs": [
    {
     "name": "stdout",
     "output_type": "stream",
     "text": [
      "Help on function typewrite in module pyautogui:\n",
      "\n",
      "typewrite(message, interval=0.0, logScreenshot=None, _pause=True)\n",
      "    Performs a keyboard key press down, followed by a release, for each of\n",
      "    the characters in message.\n",
      "    \n",
      "    The message argument can also be list of strings, in which case any valid\n",
      "    keyboard name can be used.\n",
      "    \n",
      "    Since this performs a sequence of keyboard presses and does not hold down\n",
      "    keys, it cannot be used to perform keyboard shortcuts. Use the hotkey()\n",
      "    function for that.\n",
      "    \n",
      "    Args:\n",
      "      message (str, list): If a string, then the characters to be pressed. If a\n",
      "        list, then the key names of the keys to press in order. The valid names\n",
      "        are listed in KEYBOARD_KEYS.\n",
      "      interval (float, optional): The number of seconds in between each press.\n",
      "        0.0 by default, for no pause in between presses.\n",
      "    \n",
      "    Returns:\n",
      "      None\n",
      "\n"
     ]
    }
   ],
   "source": [
    "help(py.typewrite)"
   ]
  },
  {
   "cell_type": "code",
   "execution_count": 29,
   "metadata": {},
   "outputs": [],
   "source": [
    "import selenium as sel"
   ]
  },
  {
   "cell_type": "code",
   "execution_count": 11,
   "metadata": {},
   "outputs": [],
   "source": [
    "import pyautogui as py\n",
    "import time\n",
    "def openwifi():\n",
    "    py.moveTo(1760,1080)\n",
    "    py.click()\n",
    "    py.moveTo(1805,900)\n",
    "    time.sleep(1)\n",
    "    py.click()\n",
    "    \n",
    "   "
   ]
  },
  {
   "cell_type": "code",
   "execution_count": 12,
   "metadata": {},
   "outputs": [],
   "source": [
    "import pyautogui as py\n",
    "import time\n",
    "def open():\n",
    "    arg = input('Enter the name of the file:')\n",
    "    py.moveTo(190,1080)\n",
    "    py.click()\n",
    "    time.sleep(1)\n",
    "    py.typewrite(str(arg),interval = .1)\n",
    "    time.sleep(1)\n",
    "    py.moveTo(190,340)\n",
    "    py.click()"
   ]
  },
  {
   "cell_type": "code",
   "execution_count": 13,
   "metadata": {},
   "outputs": [],
   "source": [
    "import pyautogui as py\n",
    "import time\n",
    "def web():\n",
    "    arg = input('Enter what do you want: ')\n",
    "    time.sleep(.5)\n",
    "    py.moveTo(190,1080)\n",
    "    py.click()\n",
    "    time.sleep(1)\n",
    "    py.typewrite(str(arg),interval = .1)\n",
    "    time.sleep(1)\n",
    "    py.moveTo(340,270)\n",
    "    py.click()\n",
    "    time.sleep(5)\n",
    "    py.moveTo(765,980)\n",
    "    py.click()"
   ]
  },
  {
   "cell_type": "code",
   "execution_count": 14,
   "metadata": {},
   "outputs": [],
   "source": [
    "def turnwifi():\n",
    "    py.moveTo(1760,1080)\n",
    "    py.click()\n",
    "    py.moveTo(1805,900)\n",
    "    py.click()\n",
    "    time.sleep(1)\n",
    "    py.click()\n",
    "    time.sleep(1)\n",
    "    py.moveTo(1530,990)\n",
    "    py.click()"
   ]
  },
  {
   "cell_type": "code",
   "execution_count": 16,
   "metadata": {},
   "outputs": [],
   "source": [
    "import pyautogui as py\n",
    "import time\n",
    "\n",
    "def googlesearch():\n",
    "    a = input('Enter what do you want to serach in google: ')\n",
    "    arg = 'google'\n",
    "    time.sleep(.5)\n",
    "    py.moveTo(190,1080)\n",
    "    py.click()\n",
    "    time.sleep(1)\n",
    "    py.typewrite(str(arg),interval = .1)\n",
    "    time.sleep(1)\n",
    "    py.moveTo(340,270)\n",
    "    py.click()\n",
    "    time.sleep(2)\n",
    "    py.moveTo(765,980)\n",
    "    py.click()\n",
    "    time.sleep(5)\n",
    "    py.moveTo(230,490)\n",
    "    py.click()\n",
    "    time.sleep(5)\n",
    "    py.typewrite(str(a),interval = .5)\n",
    "    py.press('enter')"
   ]
  },
  {
   "cell_type": "code",
   "execution_count": null,
   "metadata": {},
   "outputs": [],
   "source": [
    "def maps():\n",
    "    a = input('Location :')\n",
    "    arg = 'maps'\n",
    "    py.moveTo(190,1080)\n",
    "    py.click()\n",
    "    time.sleep(1)\n",
    "    py.typewrite(str(arg),interval = .1)\n",
    "    time.sleep(1)\n",
    "    py.moveTo(190,340)\n",
    "    py.click()\n",
    "    time.sleep(3)\n",
    "    py.typewrite(str(a),interval = .3)\n",
    "    py.press('enter')"
   ]
  },
  {
   "cell_type": "code",
   "execution_count": null,
   "metadata": {},
   "outputs": [],
   "source": [
    "def getdirections(fr,to):\n",
    "    arg = 'maps'\n",
    "    py.moveTo(190,1080)\n",
    "    py.click()\n",
    "    time.sleep(1)\n",
    "    py.typewrite(str(arg),interval = .1)\n",
    "    time.sleep(1)\n",
    "    py.moveTo(190,340)\n",
    "    py.click()\n",
    "    time.sleep(2)\n",
    "    py.hotkey('ctrl','d')\n",
    "    time.sleep(2)\n",
    "    py.typewrite(fr)\n",
    "    py.press('tab')\n",
    "    py.typewrite(to)\n",
    "    py.moveTo(450,300)\n",
    "    py.click()\n",
    "    py.click()\n",
    "getdirections('kingsland','queensland')"
   ]
  },
  {
   "cell_type": "code",
   "execution_count": null,
   "metadata": {},
   "outputs": [],
   "source": []
  }
 ],
 "metadata": {
  "kernelspec": {
   "display_name": "Python 3",
   "language": "python",
   "name": "python3"
  },
  "language_info": {
   "codemirror_mode": {
    "name": "ipython",
    "version": 3
   },
   "file_extension": ".py",
   "mimetype": "text/x-python",
   "name": "python",
   "nbconvert_exporter": "python",
   "pygments_lexer": "ipython3",
   "version": "3.7.6"
  }
 },
 "nbformat": 4,
 "nbformat_minor": 4
}
